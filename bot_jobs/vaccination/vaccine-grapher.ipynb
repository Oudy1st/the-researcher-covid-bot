{
 "cells": [
  {
   "cell_type": "code",
   "execution_count": 2,
   "metadata": {},
   "outputs": [],
   "source": [
    "import pandas as pd\n",
    "import datetime\n",
    "from collections import Counter\n",
    "import matplotlib.pyplot as plt\n",
    "import time\n",
    "import numpy as np\n",
    "import json\n",
    "from matplotlib.dates import DateFormatter\n",
    "from pandas.plotting import register_matplotlib_converters\n",
    "register_matplotlib_converters()"
   ]
  },
  {
   "cell_type": "code",
   "execution_count": 1,
   "metadata": {},
   "outputs": [
    {
     "ename": "NameError",
     "evalue": "name 'json' is not defined",
     "output_type": "error",
     "traceback": [
      "\u001b[0;31m---------------------------------------------------------------------------\u001b[0m",
      "\u001b[0;31mNameError\u001b[0m                                 Traceback (most recent call last)",
      "\u001b[0;32m<ipython-input-1-2477621bf27b>\u001b[0m in \u001b[0;36m<module>\u001b[0;34m\u001b[0m\n\u001b[1;32m     10\u001b[0m \u001b[0mimages\u001b[0m\u001b[0;34m=\u001b[0m\u001b[0;34m[\u001b[0m\u001b[0;34m]\u001b[0m\u001b[0;34m\u001b[0m\u001b[0;34m\u001b[0m\u001b[0m\n\u001b[1;32m     11\u001b[0m \u001b[0;32mwith\u001b[0m \u001b[0mopen\u001b[0m\u001b[0;34m(\u001b[0m\u001b[0;34m'../../components/gis/data/provincial-vaccination-data.json'\u001b[0m\u001b[0;34m,\u001b[0m \u001b[0mencoding\u001b[0m\u001b[0;34m=\u001b[0m\u001b[0;34m'utf-8'\u001b[0m\u001b[0;34m)\u001b[0m \u001b[0;32mas\u001b[0m \u001b[0mjson_file\u001b[0m\u001b[0;34m:\u001b[0m\u001b[0;34m\u001b[0m\u001b[0;34m\u001b[0m\u001b[0m\n\u001b[0;32m---> 12\u001b[0;31m     \u001b[0mjsondata\u001b[0m \u001b[0;34m=\u001b[0m \u001b[0mjson\u001b[0m\u001b[0;34m.\u001b[0m\u001b[0mload\u001b[0m\u001b[0;34m(\u001b[0m\u001b[0mjson_file\u001b[0m\u001b[0;34m)\u001b[0m\u001b[0;34m\u001b[0m\u001b[0;34m\u001b[0m\u001b[0m\n\u001b[0m\u001b[1;32m     13\u001b[0m     \u001b[0mstart\u001b[0m \u001b[0;34m=\u001b[0m \u001b[0mdatetime\u001b[0m\u001b[0;34m.\u001b[0m\u001b[0mdatetime\u001b[0m\u001b[0;34m.\u001b[0m\u001b[0mstrptime\u001b[0m\u001b[0;34m(\u001b[0m\u001b[0;34m\"2021-03-01\"\u001b[0m\u001b[0;34m,\u001b[0m \u001b[0;34m\"%Y-%m-%d\"\u001b[0m\u001b[0;34m)\u001b[0m\u001b[0;34m\u001b[0m\u001b[0;34m\u001b[0m\u001b[0m\n\u001b[1;32m     14\u001b[0m     \u001b[0mend\u001b[0m \u001b[0;34m=\u001b[0m \u001b[0mdatetime\u001b[0m\u001b[0;34m.\u001b[0m\u001b[0mdatetime\u001b[0m\u001b[0;34m.\u001b[0m\u001b[0mstrptime\u001b[0m\u001b[0;34m(\u001b[0m\u001b[0mjsondata\u001b[0m\u001b[0;34m[\u001b[0m\u001b[0;36m0\u001b[0m\u001b[0;34m]\u001b[0m\u001b[0;34m[\u001b[0m\u001b[0;34m'dates'\u001b[0m\u001b[0;34m]\u001b[0m\u001b[0;34m[\u001b[0m\u001b[0;34m-\u001b[0m\u001b[0;36m1\u001b[0m\u001b[0;34m]\u001b[0m\u001b[0;34m,\u001b[0m \u001b[0;34m\"%Y-%m-%d\"\u001b[0m\u001b[0;34m)\u001b[0m\u001b[0;34m\u001b[0m\u001b[0;34m\u001b[0m\u001b[0m\n",
      "\u001b[0;31mNameError\u001b[0m: name 'json' is not defined"
     ]
    }
   ],
   "source": [
    "def movingAve(ys):\n",
    "    N = 7\n",
    "    cumsum, moving_aves = [0], []\n",
    "    for i, x in enumerate(ys, 1):\n",
    "        cumsum.append(cumsum[i-1] + x)\n",
    "        if i>=N:\n",
    "            moving_ave = (cumsum[i] - cumsum[i-N])/N\n",
    "            moving_aves.append(moving_ave)\n",
    "    return(moving_aves)\n",
    "images=[]\n",
    "with open('../../components/gis/data/provincial-vaccination-data.json', encoding='utf-8') as json_file:\n",
    "    jsondata = json.load(json_file)\n",
    "    start = datetime.datetime.strptime(\"2021-03-01\", \"%Y-%m-%d\")\n",
    "    end = datetime.datetime.strptime(jsondata[0]['dates'][-1], \"%Y-%m-%d\")\n",
    "    #end = datetime.datetime.today()\n",
    "    date_generated = [start + datetime.timedelta(days=x) for x in range(0, (end-start).days)]\n",
    "    fulldate=[]\n",
    "    for date in date_generated:\n",
    "        fulldate.append(date)    \n",
    "\n",
    "    provinces={}\n",
    "    for province in jsondata:\n",
    "        #plt.figure(figsize=(15,10))\n",
    "        plt.cla()\n",
    "        start=time.time()\n",
    "        date_strings=province['dates']\n",
    "        timeseries={}\n",
    "        index=0\n",
    "        dates=[datetime.datetime.strptime(x, \"%Y-%m-%d\") for x in date_strings]\n",
    "        for date in dates:\n",
    "            timeseries[date] = province['doses-cum'][index]\n",
    "            index+=1\n",
    "        index=0\n",
    "        xs=list(timeseries.keys())\n",
    "        ys=list(timeseries.values())\n",
    "        xs,ys=zip(*sorted(zip(xs, ys)))\n",
    "        coverages = []\n",
    "        for i in range(len(ys)):\n",
    "            coverages.append((ys[i]*100/province['population'])/2)\n",
    "        moving_aves=movingAve(coverages)\n",
    "        #fig.set_size_inches(10,8)\n",
    "        plt.ylim(0,100)\n",
    "        plt.fill_between(xs[-14:],0,moving_aves[-14:], alpha=0.5, color='#7ea297', zorder=2)\n",
    "        plt.fill_between(xs[6:len(xs)-13],0,moving_aves[:len(moving_aves)-13], alpha=0.3, color='#7ea297', zorder=2)\n",
    "        plt.plot(xs[6:],moving_aves, color='#60897e',linewidth=2)\n",
    "        #plt.bar(xs, ys, width=0.9,color='#fa9ba4', alpha=0.2)\n",
    "        plt.plot(xs[-14:],moving_aves[-14:], color='#427165',linewidth=2)         \n",
    "\n",
    "\n",
    "        plt.box(False)\n",
    "        #plt.tick_params(axis='y',length=16, width=2,direction='in',color='#e0e0e0',pad=10)        \n",
    "        #plt.tick_params(axis='x',length=0, pad=10)\n",
    "        #plt.xticks([min(names), max(names)],fontsize=24, color='#e0e0e0')        \n",
    "        #plt.gca().xaxis.set_major_formatter(DateFormatter('%d %b'))\n",
    "\n",
    "        plt.xticks([])\n",
    "        plt.yticks([])\n",
    "        plt.savefig('../../public/vaccine-graphs-build/'+province['id']+'.svg',bbox_inches=0, transparent=True)        \n",
    "        plt.show()\n",
    "        print(time.time()-start,province['name'],(province['total-doses']/2)/province['population']*100)        \n",
    "        moving_aves=movingAve(ys)\n",
    "        change = moving_aves[-1]-movingAve(ys)[-14]\n",
    "        images.append({\n",
    "            'name':province['id']+'.svg',\n",
    "            'change': change,\n",
    "            'coverage': round(province['coverage']*100,2),\n",
    "            'province': province['name'],\n",
    "        })\n",
    "\n",
    "with open('../../components/vaccine/build_job.json', 'w', encoding='utf-8') as f:\n",
    "    data={'images': images, 'job': {\n",
    "        'ran_on': datetime.date.today().strftime(\"%m/%d/%Y %H:%M\"),\n",
    "        'dataset_updated_on': end.strftime(\"%m/%d/%Y %H:%M\")\n",
    "    }}\n",
    "    json.dump(data, f)\n",
    "    f.close()\n",
    "print('done')       \n"
   ]
  },
  {
   "cell_type": "code",
   "execution_count": 28,
   "metadata": {},
   "outputs": [
    {
     "data": {
      "text/plain": [
       "12312.12"
      ]
     },
     "execution_count": 28,
     "metadata": {},
     "output_type": "execute_result"
    }
   ],
   "source": [
    "round(12312.12311231,2)"
   ]
  }
 ],
 "metadata": {
  "kernelspec": {
   "display_name": "Python 3",
   "language": "python",
   "name": "python3"
  },
  "language_info": {
   "codemirror_mode": {
    "name": "ipython",
    "version": 3
   },
   "file_extension": ".py",
   "mimetype": "text/x-python",
   "name": "python",
   "nbconvert_exporter": "python",
   "pygments_lexer": "ipython3",
   "version": "3.8.5"
  }
 },
 "nbformat": 4,
 "nbformat_minor": 5
}
